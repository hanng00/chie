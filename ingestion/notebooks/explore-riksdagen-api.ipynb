{
 "cells": [
  {
   "cell_type": "markdown",
   "metadata": {},
   "source": [
    "## Explore Riksdagen API - V1\n",
    "\n",
    "This notebook explores Riksdagen's API for fetching their open data."
   ]
  },
  {
   "cell_type": "code",
   "execution_count": 217,
   "metadata": {},
   "outputs": [
    {
     "name": "stdout",
     "output_type": "stream",
     "text": [
      "The autoreload extension is already loaded. To reload it, use:\n",
      "  %reload_ext autoreload\n"
     ]
    }
   ],
   "source": [
    "# Ensure the imports are reloaded when running the script\n",
    "%load_ext autoreload\n",
    "%autoreload 2"
   ]
  },
  {
   "cell_type": "markdown",
   "metadata": {},
   "source": [
    "### 1. Extract: Explore the Open API"
   ]
  },
  {
   "cell_type": "code",
   "execution_count": 143,
   "metadata": {},
   "outputs": [],
   "source": [
    "from typing import Dict\n",
    "import requests\n",
    "\n",
    "\n",
    "def build_rest_url(base_url: str, query_params: Dict[str, str] = {}):\n",
    "    query_string = \"&\".join(\n",
    "        [f\"{key}={value}\" for key, value in query_params.items() if value]\n",
    "    )\n",
    "    return f\"{base_url}?{query_string}\"\n",
    "\n",
    "\n",
    "def list_documents_by_filter(query_params: Dict[str, str] = {}):\n",
    "    BASE_URL = \"https://data.riksdagen.se/dokumentlista/\"\n",
    "    rest_url = build_rest_url(BASE_URL, query_params)\n",
    "    response = requests.get(rest_url)\n",
    "    return response.json()"
   ]
  },
  {
   "cell_type": "code",
   "execution_count": 144,
   "metadata": {},
   "outputs": [],
   "source": [
    "def get_document_by_id(id: str):\n",
    "    BASE_URL = \"https://data.riksdagen.se/dokument\"\n",
    "    url = f\"{BASE_URL}/{id}.json\"\n",
    "\n",
    "    r = requests.get(url)\n",
    "    if r.status_code == 200:\n",
    "        return r.json()\n",
    "    else:\n",
    "        return None"
   ]
  },
  {
   "cell_type": "markdown",
   "metadata": {},
   "source": [
    "Here, we are able to first list the latest documents by query filters. Then selecting one of the items, we can fetch the specfic document by id."
   ]
  },
  {
   "cell_type": "code",
   "execution_count": 145,
   "metadata": {},
   "outputs": [
    {
     "name": "stdout",
     "output_type": "stream",
     "text": [
      "Found 20 documents. Sampling one of them.\n",
      "\n",
      "Example data from the document:\n",
      "    - id: hb01ubu4\n",
      "    - titel: Fortsatt giltighet av lagen om vissa register för forskning om vad arv och miljö betyder för människors hälsa\n",
      "    - typ: bet\n",
      "    - publicerad: 2023-09-18 16:03:05\n",
      "    - dokument_url_html: //data.riksdagen.se/dokument/HB01UbU4.html\n",
      "\n"
     ]
    }
   ],
   "source": [
    "query_params = {\n",
    "    \"doktyp\": \"bet\",\n",
    "    \"sort\": \"rel\",\n",
    "    \"sortorder\": \"desc\",\n",
    "    \"utformat\": \"json\",\n",
    "    \"p\": \"1\",\n",
    "}\n",
    "response = list_documents_by_filter(query_params)\n",
    "latest_docs = response[\"dokumentlista\"][\"dokument\"]\n",
    "\n",
    "print(f\"Found {len(latest_docs)} documents. Sampling one of them.\")\n",
    "\n",
    "doc_overview = latest_docs[1]\n",
    "print(\n",
    "    f\"\"\"\n",
    "Example data from the document:\n",
    "    - id: {doc_overview['id']}\n",
    "    - titel: {doc_overview['titel']}\n",
    "    - typ: {doc_overview['typ']}\n",
    "    - publicerad: {doc_overview['publicerad']}\n",
    "    - dokument_url_html: {doc_overview['dokument_url_html']}\n",
    "\"\"\"\n",
    ")"
   ]
  },
  {
   "cell_type": "code",
   "execution_count": 146,
   "metadata": {},
   "outputs": [],
   "source": [
    "doc_id = doc_overview[\"id\"]\n",
    "response = get_document_by_id(doc_id)\n",
    "doc = response[\"dokumentstatus\"]"
   ]
  },
  {
   "cell_type": "code",
   "execution_count": 147,
   "metadata": {},
   "outputs": [
    {
     "name": "stdout",
     "output_type": "stream",
     "text": [
      "Document 'hb01ubu4' has 6 sections: ['dokument', 'dokutskottsforslag', 'dokaktivitet', 'dokuppgift', 'dokbilaga', 'dokreferens'].\n"
     ]
    }
   ],
   "source": [
    "print(f\"Document '{doc_id}' has {len(doc)} sections: {list(doc.keys())}.\")"
   ]
  },
  {
   "cell_type": "markdown",
   "metadata": {},
   "source": [
    "#### 2. Transform: Understanding the document structure\n",
    "For this exercise, we've selected the particular document: \"Utgiftsområde 13 Jämställdhet och nyanlända invandrares etablering\" which we'll embedd into Pinecone."
   ]
  },
  {
   "cell_type": "markdown",
   "metadata": {},
   "source": [
    "**Transform the data into our Domain model**"
   ]
  },
  {
   "cell_type": "code",
   "execution_count": 148,
   "metadata": {},
   "outputs": [],
   "source": [
    "doc_id = \"HA01AU1\"\n",
    "# doc_id = \"HB01UbU3\"\n",
    "response = get_document_by_id(doc_id)\n",
    "unvalidated_doc = response[\"dokumentstatus\"]"
   ]
  },
  {
   "cell_type": "code",
   "execution_count": 245,
   "metadata": {},
   "outputs": [],
   "source": [
    "import notebooks.models.riksdagen as riksdagen\n",
    "from pydantic import ValidationError\n",
    "from typing import Dict\n",
    "\n",
    "_JSON = Dict[str, str]\n",
    "\n",
    "\n",
    "def validate_doc(doc: _JSON) -> riksdagen.DokumentStatus:\n",
    "    try:\n",
    "        return riksdagen.DokumentStatus.model_validate(doc)\n",
    "    except ValidationError as e:\n",
    "        print(e)\n",
    "\n",
    "\n",
    "doc = validate_doc(unvalidated_doc)"
   ]
  },
  {
   "cell_type": "markdown",
   "metadata": {},
   "source": [
    "Via Pydantic, we now have a fully typed data object."
   ]
  },
  {
   "cell_type": "code",
   "execution_count": 246,
   "metadata": {},
   "outputs": [
    {
     "data": {
      "text/plain": [
       "[Referens(referenstyp='behandlar', uppgift='motion 2022/23:1230 Svensk flyktingpolitik', ref_dok_id='HA021230', ref_dok_typ='mot', ref_dok_rm='2022/23', ref_dok_bet='1230', ref_dok_titel='Svensk flyktingpolitik', ref_dok_subtitel='av Tony Haddou m.fl. (V)', ref_dok_subtyp='mot', ref_dok_dokumentnamn='Motion'),\n",
       " Referens(referenstyp='behandlar', uppgift='motion 2022/23:1273 Utgiftsområde 13 Jämställdhet och nyanlända invandrares etablering', ref_dok_id='HA021273', ref_dok_typ='mot', ref_dok_rm='2022/23', ref_dok_bet='1273', ref_dok_titel='Utgiftsområde 13 Jämställdhet och nyanlända invandrares etablering', ref_dok_subtitel='av Nooshi Dadgostar m.fl. (V)', ref_dok_subtyp='mot', ref_dok_dokumentnamn='Motion'),\n",
       " Referens(referenstyp='behandlar', uppgift='motion 2022/23:2053 Utgiftsområde 13 Jämställdhet och nyanlända invandrares etablering', ref_dok_id='HA022053', ref_dok_typ='mot', ref_dok_rm='2022/23', ref_dok_bet='2053', ref_dok_titel='Utgiftsområde 13 Jämställdhet och nyanlända invandrares etablering', ref_dok_subtitel='av Teresa Carvalho m.fl. (S)', ref_dok_subtyp='mot', ref_dok_dokumentnamn='Motion'),\n",
       " Referens(referenstyp='behandlar', uppgift='motion 2022/23:2056 Utgiftsområde 8 Migration', ref_dok_id='HA022056', ref_dok_typ='mot', ref_dok_rm='2022/23', ref_dok_bet='2056', ref_dok_titel='Utgiftsområde 8 Migration', ref_dok_subtitel='av Anders Ygeman m.fl. (S)', ref_dok_subtyp='mot', ref_dok_dokumentnamn='Motion'),\n",
       " Referens(referenstyp='behandlar', uppgift='motion 2022/23:2109 Utgiftsområde 13 Jämställdhet och nyanlända invandrares etablering', ref_dok_id='HA022109', ref_dok_typ='mot', ref_dok_rm='2022/23', ref_dok_bet='2109', ref_dok_titel='Utgiftsområde 13 Jämställdhet och nyanlända invandrares etablering', ref_dok_subtitel='av Nicklas Attefjord m.fl. (MP)', ref_dok_subtyp='mot', ref_dok_dokumentnamn='Motion')]"
      ]
     },
     "execution_count": 246,
     "metadata": {},
     "output_type": "execute_result"
    }
   ],
   "source": [
    "doc.dokreferens.referens[:5]"
   ]
  },
  {
   "cell_type": "markdown",
   "metadata": {},
   "source": [
    "**Convert into domain models we care about**\n",
    "\n",
    "I can think of the following questions users may ask our RAG model:\n",
    "- 1. What is this Betänkande about?\n",
    "- 2. What was Person X's opinion about this Betänkande?\n",
    "\n",
    "To answer those questions, we need to embed the data in multiple ways. But let's start by making it simple - only embedding the original submission."
   ]
  },
  {
   "cell_type": "code",
   "execution_count": 248,
   "metadata": {},
   "outputs": [],
   "source": [
    "import io\n",
    "from typing import List\n",
    "import requests\n",
    "from PyPDF2 import PdfReader\n",
    "from langchain_text_splitters import RecursiveCharacterTextSplitter\n",
    "\n",
    "from notebooks.models.retrieval import Document, DocumentMetadata\n",
    "\n",
    "\n",
    "def extract_full_text_from_pdf(pdf_url):\n",
    "    r = requests.get(pdf_url)\n",
    "    if r.status_code != 200:\n",
    "        print(f\"Failed to fetch PDF from URL: {pdf_url}\")\n",
    "        return None\n",
    "    on_fly_pdf = io.BytesIO(r.content)\n",
    "\n",
    "    reader = PdfReader(on_fly_pdf)\n",
    "\n",
    "    return \"\".join([page.extract_text() for page in reader.pages])\n",
    "\n",
    "\n",
    "def create_chunk_id(parent_id: str, idx: int) -> str:\n",
    "    return f\"{parent_id}-{idx}\"\n",
    "\n",
    "\n",
    "def chunkify(parent_id: str, text: str) -> List[Document]:\n",
    "    splitter = RecursiveCharacterTextSplitter(\n",
    "        separators=[\"   \\n\", \"  \\n\", \" \\n\", \"\\n\", \". \", \" \", \"\"]\n",
    "    )\n",
    "    document_chunks_lc_domain = splitter.create_documents([text])\n",
    "    return [\n",
    "        Document(id=create_chunk_id(parent_id, idx=idx), text=lc_doc.page_content)\n",
    "        for idx, lc_doc in enumerate(document_chunks_lc_domain)\n",
    "    ]\n",
    "\n",
    "\n",
    "doc_id = doc.dokument.dok_id\n",
    "betankande_file_url = doc.dokbilaga.bilaga[0].fil_url\n",
    "metadata = DocumentMetadata(\n",
    "    data={\n",
    "        \"doc_id\": str(doc_id),\n",
    "        \"titel\": str(doc.dokument.titel),\n",
    "        \"typ\": str(doc.dokument.typ),\n",
    "        \"publicerad\": str(doc.dokument.publicerad),\n",
    "        \"dokument_url_html\": str(doc.dokument.dokument_url_html),\n",
    "    }\n",
    ")\n",
    "\n",
    "betankande_full_text = extract_full_text_from_pdf(betankande_file_url)\n",
    "document_chunks = chunkify(doc_id, betankande_full_text)"
   ]
  },
  {
   "cell_type": "code",
   "execution_count": 249,
   "metadata": {},
   "outputs": [],
   "source": [
    "document_chunks = [\n",
    "    Document(id=doc.id, text=doc.text, metadata=metadata) for doc in document_chunks\n",
    "]"
   ]
  },
  {
   "cell_type": "markdown",
   "metadata": {},
   "source": [
    "We now have our chunks, with proper Ids and Metadata"
   ]
  },
  {
   "cell_type": "code",
   "execution_count": 251,
   "metadata": {},
   "outputs": [
    {
     "name": "stdout",
     "output_type": "stream",
     "text": [
      "Document ID: 'HA01AU1-3', \n",
      "Metadata: '{'doc_id': 'HA01AU1', 'titel': 'Utgiftsområde 13 Jämställdhet och nyanlända invandrares etablering', 'typ': 'bet', 'publicerad': '2022-10-20 09:12:21', 'dokument_url_html': 'http://data.riksdagen.se/dokument/HA01AU1'}' \n",
      "Text: '6    2022 /23:AU1  \n",
      "Utskottets överväganden  \n",
      "Regeringens resultatredovisning för utgiftsområde 13  ' \n",
      "\n",
      "\n",
      "Document ID: 'HA01AU1-4', \n",
      "Metadata: '{'doc_id': 'HA01AU1', 'titel': 'Utgiftsområde 13 Jämställdhet och nyanlända invandrares etablering', 'typ': 'bet', 'publicerad': '2022-10-20 09:12:21', 'dokument_url_html': 'http://data.riksdagen.se/dokument/HA01AU1'}' \n",
      "Text: 'I en första de l av resultatredovisningen beskrivs utvecklingen inom \n",
      "områdena arbetsmarknad, utbild' \n",
      "\n",
      "\n"
     ]
    }
   ],
   "source": [
    "for doc in document_chunks[3:5]:\n",
    "    print(\n",
    "        f\"Document ID: '{doc.id}', \\nMetadata: '{doc.metadata.data}' \\nText: '{doc.text[:100]}' \\n\\n\"\n",
    "    )"
   ]
  },
  {
   "cell_type": "markdown",
   "metadata": {},
   "source": [
    "### 3. Load into Pinecone\n",
    "\n",
    "This step requires us to do the following pipeline:\n",
    " 1. Create our Pinecone instance + index\n",
    " 2. Embed our chunks\n",
    " 3. Upload to Pinecone"
   ]
  },
  {
   "cell_type": "code",
   "execution_count": 181,
   "metadata": {},
   "outputs": [
    {
     "data": {
      "text/plain": [
       "True"
      ]
     },
     "execution_count": 181,
     "metadata": {},
     "output_type": "execute_result"
    }
   ],
   "source": [
    "from dotenv import load_dotenv\n",
    "\n",
    "load_dotenv()"
   ]
  },
  {
   "cell_type": "code",
   "execution_count": 226,
   "metadata": {},
   "outputs": [],
   "source": [
    "OPENAI_EMBEDDING_MODEL = \"text-embedding-3-large\"\n",
    "EMBEDDING_DIM = 1536\n",
    "INDEX_NAME = \"chie-rag\""
   ]
  },
  {
   "cell_type": "markdown",
   "metadata": {},
   "source": [
    "**I. Create/Get Pinecone Index**"
   ]
  },
  {
   "cell_type": "code",
   "execution_count": 266,
   "metadata": {},
   "outputs": [
    {
     "name": "stdout",
     "output_type": "stream",
     "text": [
      "Index stats: \n",
      " {'dimension': 1536,\n",
      " 'index_fullness': 0.0,\n",
      " 'namespaces': {},\n",
      " 'total_vector_count': 0}\n"
     ]
    }
   ],
   "source": [
    "from pinecone import Pinecone\n",
    "import os\n",
    "\n",
    "pc = Pinecone(\n",
    "    api_key=os.environ[\"PINECONE_API_KEY\"],\n",
    ")\n",
    "\n",
    "index = pc.Index(INDEX_NAME)\n",
    "print(\"Index stats: \\n\", index.describe_index_stats())\n"
   ]
  },
  {
   "cell_type": "markdown",
   "metadata": {},
   "source": [
    "**II. Embed Docs**"
   ]
  },
  {
   "cell_type": "code",
   "execution_count": 272,
   "metadata": {},
   "outputs": [],
   "source": [
    "from openai import OpenAI\n",
    "from notebooks.models.retrieval import Document, Embedding\n",
    "from typing import List\n",
    "\n",
    "openai_client = OpenAI(api_key=os.environ[\"OPENAI_API_KEY\"])\n",
    "\n",
    "\n",
    "def embedd_docs(openai: OpenAI, docs: List[Document]) -> Embedding:\n",
    "    doc_strings = [doc.text for doc in docs]\n",
    "    embeddings = openai.embeddings.create(\n",
    "        model=OPENAI_EMBEDDING_MODEL,\n",
    "        dimensions=EMBEDDING_DIM,\n",
    "        input=doc_strings,\n",
    "    )\n",
    "    domain_embeddings = [\n",
    "        Embedding(embedding=embedding.embedding, document=doc)\n",
    "        for doc, embedding in zip(docs, embeddings.data)\n",
    "    ]\n",
    "    return domain_embeddings\n",
    "\n",
    "embeddings = embedd_docs(openai_client, document_chunks)"
   ]
  },
  {
   "cell_type": "markdown",
   "metadata": {},
   "source": [
    "Now insert the docs into Pinecone"
   ]
  },
  {
   "cell_type": "code",
   "execution_count": 276,
   "metadata": {},
   "outputs": [
    {
     "name": "stdout",
     "output_type": "stream",
     "text": [
      "Upserting batch of 24 items.\n"
     ]
    }
   ],
   "source": [
    "from typing import Iterable, TypeVar, Tuple\n",
    "\n",
    "BATCH_SIZE = 100\n",
    "\n",
    "T = TypeVar(\"T\")\n",
    "\n",
    "\n",
    "def yield_iterator(items: List[T], batch_size: int) -> Iterable[List[T]]:\n",
    "    for i in range(0, len(items), batch_size):\n",
    "        yield items[i : i + batch_size]\n",
    "\n",
    "\n",
    "def to_pinecone_tuple(embedding: Embedding) -> List[Tuple]:\n",
    "    metadata = {\n",
    "        \"text\": embedding.document.text,\n",
    "        **embedding.document.metadata.data,\n",
    "    }\n",
    "    return (\n",
    "        embedding.document.id,\n",
    "        embedding.embedding,\n",
    "        metadata,\n",
    "    )\n",
    "\n",
    "\n",
    "for batch in yield_iterator(embeddings, BATCH_SIZE):\n",
    "    print(f\"Upserting batch of {len(batch)} items.\")\n",
    "    vectors = [to_pinecone_tuple(embedding) for embedding in batch]\n",
    "    \n",
    "    index.upsert(vectors=vectors, namespace=\"riksdagen-test\")"
   ]
  },
  {
   "cell_type": "markdown",
   "metadata": {},
   "source": [
    "Verify that the vectors got upserted"
   ]
  },
  {
   "cell_type": "code",
   "execution_count": 277,
   "metadata": {},
   "outputs": [
    {
     "name": "stdout",
     "output_type": "stream",
     "text": [
      "Updated index stats: \n",
      "{'dimension': 1536,\n",
      " 'index_fullness': 0.00024,\n",
      " 'namespaces': {'riksdagen-test': {'vector_count': 24}},\n",
      " 'total_vector_count': 24}\n"
     ]
    }
   ],
   "source": [
    "print(f\"Updated index stats: \\n{index.describe_index_stats()}\")"
   ]
  },
  {
   "cell_type": "markdown",
   "metadata": {},
   "source": [
    "## 4. Test the RAG"
   ]
  },
  {
   "cell_type": "markdown",
   "metadata": {},
   "source": [
    "Good. Now, let's try to query our vector store, and later build a Generative Q&A."
   ]
  },
  {
   "cell_type": "markdown",
   "metadata": {},
   "source": [
    "**I. Try some queries**"
   ]
  },
  {
   "cell_type": "code",
   "execution_count": 301,
   "metadata": {},
   "outputs": [],
   "source": [
    "from langchain_openai import OpenAIEmbeddings\n",
    "from langchain_pinecone import PineconeVectorStore\n",
    "\n",
    "# Initialize a LangChain embedding object\n",
    "embeddings = OpenAIEmbeddings(\n",
    "    openai_api_type=os.environ[\"OPENAI_API_KEY\"],\n",
    "    model=OPENAI_EMBEDDING_MODEL,\n",
    "    dimensions=EMBEDDING_DIM,\n",
    ")\n",
    "\n",
    "# Initialize the LangChain vector store\n",
    "vectorstore = PineconeVectorStore(\n",
    "    index_name=INDEX_NAME,\n",
    "    namespace=\"riksdagen-test\",\n",
    "    embedding=embeddings,\n",
    "    text_key=\"text\",  # The original text is stored in the metadata under the key \"text\"\n",
    ")"
   ]
  },
  {
   "cell_type": "code",
   "execution_count": 304,
   "metadata": {},
   "outputs": [],
   "source": [
    "query = \"Vilka skrev motioner till betänkandet?\"\n",
    "top_k = 3\n",
    "\n",
    "# Get the top 5 most similar documents\n",
    "doc = vectorstore.similarity_search(\n",
    "    query=query,\n",
    "    k=top_k\n",
    ")"
   ]
  },
  {
   "cell_type": "markdown",
   "metadata": {},
   "source": [
    "**II. Build a Q&A Rag**"
   ]
  },
  {
   "cell_type": "code",
   "execution_count": 317,
   "metadata": {},
   "outputs": [],
   "source": []
  },
  {
   "cell_type": "code",
   "execution_count": 323,
   "metadata": {},
   "outputs": [],
   "source": [
    "from langchain_openai import ChatOpenAI\n",
    "from langchain import hub\n",
    "from langchain_core.output_parsers import StrOutputParser\n",
    "from langchain_core.runnables import RunnablePassthrough\n",
    "from langchain_core.prompts import PromptTemplate\n",
    "\n",
    "\n",
    "retreiver = vectorstore.as_retriever()\n",
    "prompt = PromptTemplate.from_template(\n",
    "    \"\"\"You are an assistant for question-answering tasks. Use the following pieces of retrieved context to answer the question. If you don't know the answer, just say that you don't know. Use three sentences maximum and keep the answer concise.\n",
    "Question: {question} \n",
    "Context: {context} \n",
    "Answer:\"\"\"\n",
    ")\n",
    "\n",
    "llm = ChatOpenAI(\n",
    "    api_key=os.environ[\"OPENAI_API_KEY\"], model=\"gpt-3.5-turbo\", temperature=0.0\n",
    ")\n",
    "\n",
    "\n",
    "def format_docs(docs):\n",
    "    return \"\\n\\n\".join(doc.page_content for doc in docs)\n",
    "\n",
    "\n",
    "rag_chain = (\n",
    "    {\"context\": retreiver | format_docs, \"question\": RunnablePassthrough()}\n",
    "    | prompt\n",
    "    | llm\n",
    "    | StrOutputParser()\n",
    ")"
   ]
  },
  {
   "cell_type": "code",
   "execution_count": 327,
   "metadata": {},
   "outputs": [
    {
     "name": "stdout",
     "output_type": "stream",
     "text": [
      "[Document(page_content='5  2022 /23:AU1  \\nI utskottens uppgifter ingår att följa upp och utvärdera riksdagsbeslut \\n(4 kap. 8 § regeringsformen). Som en del i utskottens uppföljning ingår att \\nbehandla den resultatinformation som regeringen presenterar. Riksdagen har \\nbeslutat om riktlinj er för bl.a. den löpande uppföljningen av regeringens \\nresultatredovisning (framst. 2005/06:RS3, bet. 2005/06:KU21, rskr. 2005/06: \\n333–335).  \\nUtskottet har mot den bakgrunden gått igenom regeringens resultat -\\nredovisning för utgiftsområde 13 i budgetpropositi onen. Genomgången är ett \\nunderlag för utskottets behandling av budgetpropositionen och för den \\nfortsatta mål - och resultatdialogen med regeringen.  \\nBetänkandets disposition  \\nBetänkandet har disponerats så att regeringens resultatredovisning behandlas \\nförst. Därefter behandlar utskottet de förslag i budgetpropositionen och de \\nmotionsförslag som gäller statens budget inom utgiftsområde 13.', metadata={'doc_id': 'HA01AU1', 'dokument_url_html': 'http://data.riksdagen.se/dokument/HA01AU1', 'publicerad': '2022-10-20 09:12:21', 'titel': 'Utgiftsområde 13 Jämställdhet och nyanlända invandrares etablering', 'typ': 'bet'}), Document(page_content='Utifrån resultatredovisningen gör regeringen en bedömning av utveckling -\\nen i förhållande till det mål som riksdagen har beslutat ska gälla för politiken \\nmot diskriminering. Regeringen framhåller att arbetet med att förebygga och \\nmotverka diskriminering och rasism samt för att stärka hbtqi -personers l ika \\nrättigheter och möjligheter förutsätter en rad olika insatser. Regeringens \\nsamlade bedömning är att arbetet ger resultat och bidrar till att nå målet om ett \\nsamhälle fritt från diskriminering.  \\nJämställdhet  \\nNär det gäller målet  för jämställdhetspolitik en har regeringen beslutat om sex \\nunderliggande delmål: jämn fördelning av makt och inflytande, ekonomisk \\njämställdhet, jämställd utbildning, jämn fördelning av det obetalda hem - och \\nomsorgsarbetet, jämställd hälsa samt  att mäns våld mot kvinnor ska upphöra. \\nRegeringen framhåller att j ämställdhetspolitiken är bred och ska integreras i UTSKOTTETS ÖVERVÄGANDEN  \\n8    2022 /23:AU1  \\nregeringens samlade arbete. Jämställdhetsintegrering är regeringens huvud -\\nsakliga strategi, i kombination med särskilda åtgärder, för att uppnå de \\njämställdhetspolitiska målen.  \\nFör respektive jämställdhet spolitiskt delmål listar regeringen ett antal \\nresulta tindikatorer som ska tydliggöra de centrala aspekterna i målen. Exempel \\npå indikatorer är könsfördelning när det gäller chefer i offentlig och privat \\nsektor, kvinnors lön som andel av mäns lön efter sek tor, utbildningsnivå för \\nbefolkningen 25 –64 år, ersatta dagar för vård av barn, sjukpenningtalet efter \\nålder samt personer 16 –79 år utsatta för misshandel. Redovisningen görs i \\nförsta hand utifrån delmålens indikatorer och anslaget för särskilda jäm -\\nställd hetsåtgärder. Regeringen anger att över 90 procent av medlen på detta \\nanslag under 2018 –2021 fördela des till insatser för att nå resultat inom \\ndelmålet om att mäns våld mot kvinnor ska upphöra.  Redovisningen innefattar \\nockså en redogörelse för utvecklingen  och resultatet av strategin Jämställd -\\nhetsintegrering.  I budgetpropositionens bilaga 3 Ekonomisk jämställdhet \\nredovisas indikatorerna och utvecklingen av den ekonomiska jämställdheten \\nmer ingående.  \\nUtifrån resultatredovisningen gör regeringen en bedömnin g av \\nmåluppfyllelsen mot det övergripande målet för jämställdhetspolitiken samt \\nen bedömning av utvecklingen i förhållande till de jämställdhetspolitiska \\ndelmålen.  Regeringen konstaterar att även om Sverige står sig väl i \\ninternationella mätningar av jämst älldhet är det övergripande målet om att \\nkvinnor och män ska ha samma makt att forma samhället och sina egna liv \\nännu inte uppnått. När det gäller delmålen framhåller regeringen bl.a. att mäns \\nvåld mot kvinnor långt ifrån upphört, och att kvinnor , män, flickor och pojkar \\ni Sverige fortfarande  utsätts  för hedersrelaterat våld och förtryck.  \\nSegregation  \\nNär det gäller åtgärder mot segregation anför regeringen att målet främst \\nuppnås genom generella åtgärder för hela samhället. För att nå målet behöver \\nde gener ella åtgärderna enligt regeringen dock kompletteras med riktade \\nåtgärder som bl.a. finansieras inom utgiftsområde 13.  Resultatredovisningen \\ntar sin huvudsakliga utgångspunkt i  fem områdestyper som definierats utifrån \\nett socioekonomiskt index, framtaget av Statistiska centralbyrån och \\nDelegationen mot segregation.  Områdestyp 1 avser områden med stora \\nsocioekonomiska utmaningar och områdestyp 5 avser områden med mycket \\ngoda socio ekonomiska förutsättningar.  Redovisningen omfattar ett antal \\nindikatorer, som redovisas för de fem områdestyperna.  Exempel på indikatorer \\när graden av segregation, andelen förvärvsarbetande, andelen behöriga till \\ngymnasieskolans nationella program samt bostadsarea per person.', metadata={'doc_id': 'HA01AU1', 'dokument_url_html': 'http://data.riksdagen.se/dokument/HA01AU1', 'publicerad': '2022-10-20 09:12:21', 'titel': 'Utgiftsområde 13 Jämställdhet och nyanlända invandrares etablering', 'typ': 'bet'}), Document(page_content='Utöver förslaget om att bibehålla nivån på antalet kvotflyktingar har \\nVänsterpartiet  förslag om  en amnesti för ensamkommande barn och unga som \\nvarit i Sverige i över ett år, vilket skulle medföra ökade kostnader för \\nkommunmottagandet. För att Sverige ska kunna klara integrationen  behöver , \\nsom utskottet redan varit inne på,  invandring en till Sverige minska . En amnesti \\ni enlighet med vad Vänsterpartiet förespråkar vore enligt utskottet fel väg att \\ngå.  \\nMed det anförda ställer sig u tskottet  bakom  regeringens förslag till \\nanslag sfördelning  inom området nyanlända invandrares etablering.  \\nDiskriminering  \\nAtt inte utsättas för diskriminering är en mänsklig rättighet.  Förbud mot \\ndiskrimine ring finns inskrivet i konventioner om mänskliga rättigheter och i UTSKOTTETS ÖVERVÄGANDEN  \\n  15  2022 /23:AU1  \\nEU-lagstiftningen.  Utskottet vill inledningsvis framhålla vikten av att stärka \\nskyddet mot di skriminering, och  också  välkomna regeringens inriktning om \\natt under året strategiskt främja jämlikhet och likabehandling inom EU -\\nsamarbetet.  \\nArbetet med att förebygga och motverka diskriminering och rasism samt \\nför att stärka hbtqi -personers lika rättigh eter och möjligheter förutsätter en rad \\nolika insatser . Utifrån resultatredovisningen i budgetpropositionen noterar \\nutskottet att det arbete  som bedrivs  ger resultat och bidrar till att nå målet om \\nett samhälle fritt från diskriminering. I likhet med reger ingen anser utskottet \\natt det arbete som Diskriminerings ombuds mannen, civilsamhällets organisat -\\nioner och arbetsmarknadens parter gör är fortsatt viktigt f ör att skapa \\nförutsättningar för allas lika rättigheter och möjligheter . Den satsning som \\nregering en föreslår för att kunna fortsätta  och förstärka arbetet med hbtqi -\\npersoners lika rättigheter och möjligheter välkomnas av utskottet.  \\nNär det gäller de alternativa budget förslagen  kan utskottet konstatera att \\nden enda avvike lsen inom området diskriminering som finns  från re geringens \\nbudgetförslag  är den sänkning av pris - och löneomräkningen  som Center -\\npartiet föreslår, vilket påverkar anslag et 2:1 Diskrimineringsombuds mannen . \\nUtskottet anser att regeringens förslag är väl avvägt och ställer sig därmed \\nbakom  regeringens förslag till anslagsfördelning  inom området diskriminer -\\ning. \\nJämställdhet  \\nDet övergripande målet för jämställdhetspolitiken är att kvinnor och män ska \\nha samma makt att forma samhället och sina egna liv. Utskottet k an konstatera \\natt Sverige står sig väl i internationella mätningar av jämställdhet, men att det \\növergripande målet ännu inte är uppnått  och att många utmaningar kvarstår . \\nDen ekonomiska ojämställdheten är ett hinder för möjligheten att forma \\nsamhället och sitt eget liv. Mäns våld mot kvinnor har långt ifrån upphört. \\nKvinnor och män och flickor och pojkar i Sverige utsätts fortfarande för \\nhedersrelaterat våld och förtryck.  Mer återstår också att göra bl.a. när det gäller \\natt nå delmålen om jämställd utbildni ng och jämställd hälsa.  \\nSom regeringen anför  i budgetpropositionen påverkar de jämställdhets -\\npolitiska delmålen varandra och i nsatser behövs för att det övergripande \\njämställdhetspolitiska målet ska kunna nås. Som framgår av resultat -\\nredovisningen i budget propositionen har t.ex. utvecklingen mot en jämn \\nfördelning av makt och inflytande gått framåt i flera avseenden, men samtidigt  \\nåterstår mer att göra. Kvinnors och mäns förutsättningar och möjligheter i \\nområden med socioekonomiska ut maningar att vara delaktiga och delta i den \\nlokala demokratins och lokalsamhällets formella och informella sammanhang \\när ett sådant område som behöver utvecklas. Utskottet välkomnar därmed det \\nökade stöd till kvinnors och flickors organisering i utsatta om råden  som \\nregeringen  föreslår . Detta är en viktig satsning  för att stärka jämställdheten  i \\nvårt samhälle .  UTSKOTTETS ÖVERVÄGANDEN  \\n16    2022 /23:AU1', metadata={'doc_id': 'HA01AU1', 'dokument_url_html': 'http://data.riksdagen.se/dokument/HA01AU1', 'publicerad': '2022-10-20 09:12:21', 'titel': 'Utgiftsområde 13 Jämställdhet och nyanlända invandrares etablering', 'typ': 'bet'}), Document(page_content='Sammantaget anvisar Socialdemokraterna  327 000 000 kronor mer än \\nregeringen till utgiftsområde 13 för 2023.  \\n \\n  \\n2. Statens budget inom utgifts område 13 (V)  \\n Ciczie Weidby (V) anför:  \\n \\nRiksdagen har genom sitt beslut den 13 december 2022  fastställt att de samlade \\nutgifterna för utgiftsområde 13 inte får överstiga 5 565 206 000 kronor 2023 \\n(bet. 2022/23:FiU1, rskr. 2022/23: 51). Eftersom Vänsterpartiets förslag till \\nanslag inom utgiftsområdet ligger över den nivån kan jag inte reservera mig \\ntill förmån för detta förslag. Vänsterpartiets budgetalternativ bör ses som en \\nhelhet. Där för väljer jag att avstå från ställningstagande och lägger i stället \\nfram ett särskilt yttrande om Vänsterpartiets politik inom utgiftsområde 13.  \\nI partimotionen En rättvis väg genom krisen (mot. 2022/23:1299)  \\npresenteras Vänsterpartiets samlade förslag n är det gäller statens budget. \\nMotionen behandlas i betänkande 2022/23:FiU1, och vårt samlade förslag \\nframgår av reservation 6 i det betänkandet . I den motionen finns också partiets \\nförslag till ram för utgiftsområde 13.  \\nVi har i dag ett ekonomiskt läge so m präglas av hög inflation, stigande \\nräntor och effekter av Rysslands krig i Ukraina. I detta läge är det centralt att \\nvärna de svenska hushållens ekonomi. Det är också dags att återupprätta det \\nvälfärdssamhälle som tidigare generationer har byggt upp. Vän sterpartiet \\neftersträvar en samhällsutveckling med goda och jämlika förutsättningar för \\nalla som bor och verkar i vårt land. Vi behöver en ekonomisk politik som är \\ninriktad på full sysselsättning och ekonomisk jämlikhet. Samtidigt måste \\nklimatomställningsa rbetet accelereras betydligt för att vi ska nå våra klimat -\\nmål. Sverigedemokraternas och regeringens budgetproposition präglas av en \\nchockerande passivitet inför såväl stora strukturella samhällsproblem som \\neffekterna av den pågående kostnadskrisen. Vänste rpartiet presenterar i sin \\nbudgetmotion en helt annan inriktning med kraftfulla åtgärder för att möta de \\nutmaningar som finns.  \\nVänsterpartiets förslag till statens budget för 2023 inom utgiftsområde 13 \\nläggs fram i partimotion 2022/23:1273. När det gäller regeringens förslag om \\nett lägre mottagande av vidarebosatta avvisar  Vänsterpartiet denna minskning. \\nSverige ska vara en röst för solidaritet, demokrati och mänskliga rättigheter SÄRSKILDA YTTRANDEN  \\n20    2022 /23:AU1  \\nvärlden över . En annan viktig fråga där Vänsterpartiet vill gå i en helt anna n \\nriktning än vad regeringen och utskottet gör gäller de ensamkommande barn \\noch unga som varit i Sverige i över ett år. För denna grupp vill Vänsterpartiet \\ninföra en amnesti , och partiet tillför därför medel till anslaget för kommun -\\nersättningar vid flykti ngmottagande.  \\nYtterligare en angelägen fråga för Vänsterpartiet är att stärka stödet till \\nkvinno - och tjejjourerna.  Vänsterpartiet föreslår därför att det tillförs mer \\nmedel till jourernas  verksamhet än vad regeringen och utskottet gör.  \\nSammantaget anvisar Vänsterpartiet  1 007 000 000 kronor mer än regering -\\nen till utgiftsområde 13 för 2023.  \\n \\n  \\n3. Statens budget inom utgiftsområde 13 (C)  \\n Helena Vilhelmsson (C) anför:  \\n \\nRiksdagen har genom sitt beslut den 13 december 2022  fastställt att de samlade \\nutgifterna för utgiftsområde 13 inte får överstiga 5 565 206 000 kronor 2023 \\n(bet. 2022/23:FiU1, rskr. 2022/23: 51). Eftersom Centerpartiets förslag till \\nanslag inom utgiftsområd et ligger över den nivån kan jag inte reservera mig \\ntill förmån för detta förslag. Centerpartiets budgetalternativ bör ses som en \\nhelhet. Därför väljer jag att avstå från ställningstagande och lägger i stället \\nfram ett särskilt yttrande om Centerpartiets p olitik inom utgiftsområde 13.  \\nI partimotionen Jobben, klimatet och hela landet (mot. 2022/23:2180)', metadata={'doc_id': 'HA01AU1', 'dokument_url_html': 'http://data.riksdagen.se/dokument/HA01AU1', 'publicerad': '2022-10-20 09:12:21', 'titel': 'Utgiftsområde 13 Jämställdhet och nyanlända invandrares etablering', 'typ': 'bet'})]\n"
     ]
    },
    {
     "data": {
      "text/plain": [
       "'Jag har åtkomst till betänkandena 2022/23:AU1, 2022/23:FiU1 och 2022/23:1273. Utskottet behandlar regeringens resultatredovisning, budgetpropositionen och motionsförslag inom utgiftsområde 13. Regeringen bedömer utvecklingen mot målen för jämställdhetspolitiken och diskriminering.'"
      ]
     },
     "execution_count": 327,
     "metadata": {},
     "output_type": "execute_result"
    }
   ],
   "source": [
    "rag_chain.invoke(\"Vilka betänkanden har du åtkomst till?\")"
   ]
  }
 ],
 "metadata": {
  "kernelspec": {
   "display_name": ".venv",
   "language": "python",
   "name": "python3"
  },
  "language_info": {
   "codemirror_mode": {
    "name": "ipython",
    "version": 3
   },
   "file_extension": ".py",
   "mimetype": "text/x-python",
   "name": "python",
   "nbconvert_exporter": "python",
   "pygments_lexer": "ipython3",
   "version": "3.11.2"
  }
 },
 "nbformat": 4,
 "nbformat_minor": 2
}
